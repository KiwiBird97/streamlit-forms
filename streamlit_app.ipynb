{
 "cells": [
  {
   "cell_type": "code",
   "execution_count": null,
   "metadata": {},
   "outputs": [],
   "source": [
    "# Add and all changes in your files\n",
    "! git commit -am \"Create requirements.txt and a simple Streamlit app\"\n",
    "\n",
    "# Pusl all commits back to GitHub\n",
    "! git push"
   ]
  }
 ],
 "metadata": {
  "language_info": {
   "name": "python"
  },
  "orig_nbformat": 4
 },
 "nbformat": 4,
 "nbformat_minor": 2
}
